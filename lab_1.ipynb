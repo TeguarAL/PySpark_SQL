{
 "cells": [
  {
   "cell_type": "markdown",
   "metadata": {
    "pycharm": {
     "name": "#%% md\n"
    }
   },
   "source": [
    "# Лабораторная работа №1\n",
    "## \"PySpark SQL\"\n",
    "### вариант 1\n",
    "### Лукин А.В."
   ]
  },
  {
   "cell_type": "markdown",
   "source": [
    "Напишите программу на Python согласно вашему варианту для датасета “brooklyn_sales_map.csv”. Напишите небольшой отчёт, который должен содержать титульный лист, вариант задания, код программы и полученные вами результаты. Для помощи в выполнении задания можно воспользоваться книгами «Изучаем Spark. Молниеносный анализ данных -2015», «PySpark SQL Recipes» или интернетом."
   ],
   "metadata": {
    "collapsed": false,
    "pycharm": {
     "name": "#%% md\n"
    }
   }
  },
  {
   "cell_type": "markdown",
   "source": [
    "В начале используем чёрную магию, чтобы установить Apache Spark.\n",
    "После, приступаем к работе.\n",
    "Из pyspark.sql импортируем SparkSession для работы с таблицами.\n",
    "* builder - атрибут класса, для создания экземпляров SparkSession\n",
    "* master - задает главный URL-адрес Spark для подключения, например «local» для локального запуска, «local[4]» для локального запуска с 4 ядрами или «spark://master:7077» для запуска в автономном кластере Spark.\n",
    "* getOrCreate - получает существующий SparkSession или, если существующего нет, создает новый на основе параметров, установленных в этом билдере.\n",
    "\n",
    "Для отображения датафрейма, без \"show\", используется конфигурация: spark.conf.set('spark.sql.repl.eagerEval.enabled', True)."
   ],
   "metadata": {
    "collapsed": false,
    "pycharm": {
     "name": "#%% md\n"
    }
   }
  },
  {
   "cell_type": "code",
   "execution_count": 1,
   "metadata": {
    "collapsed": true
   },
   "outputs": [
    {
     "data": {
      "text/plain": "<pyspark.sql.session.SparkSession at 0x1a17be5e430>",
      "text/html": "\n            <div>\n                <p><b>SparkSession - in-memory</b></p>\n                \n        <div>\n            <p><b>SparkContext</b></p>\n\n            <p><a href=\"http://109.123.185.178:4040\">Spark UI</a></p>\n\n            <dl>\n              <dt>Version</dt>\n                <dd><code>v3.1.2</code></dd>\n              <dt>Master</dt>\n                <dd><code>local[*]</code></dd>\n              <dt>AppName</dt>\n                <dd><code>pyspark-shell</code></dd>\n            </dl>\n        </div>\n        \n            </div>\n        "
     },
     "execution_count": 1,
     "metadata": {},
     "output_type": "execute_result"
    }
   ],
   "source": [
    "from pyspark.sql import SparkSession\n",
    "spark = SparkSession.builder.master(\"local[*]\").getOrCreate()\n",
    "spark.conf.set(\"spark.sql.repl.eagerEval.enabled\", True)\n",
    "spark"
   ]
  },
  {
   "cell_type": "markdown",
   "source": [
    "Импортируем, необходимые библиоткеи"
   ],
   "metadata": {
    "collapsed": false
   }
  },
  {
   "cell_type": "code",
   "execution_count": 2,
   "outputs": [],
   "source": [
    "from pyspark.sql.functions import isnan, when, count, col, isnull, rand\n",
    "import pyspark.sql.functions as f"
   ],
   "metadata": {
    "collapsed": false,
    "pycharm": {
     "name": "#%%\n"
    }
   }
  },
  {
   "cell_type": "markdown",
   "source": [
    "Прочитаем документ: brooklyn_sales_map.csv.\n",
    "* header - заголовок\n",
    "* inferSchema - параметр, для определения типа данных в столбцах (str, int, double)"
   ],
   "metadata": {
    "collapsed": false,
    "pycharm": {
     "name": "#%% md\n"
    }
   }
  },
  {
   "cell_type": "code",
   "execution_count": 3,
   "metadata": {
    "pycharm": {
     "name": "#%%\n"
    }
   },
   "outputs": [
    {
     "data": {
      "text/plain": "+---+--------+--------------------+-----------------------+---------+-----+----+--------+--------------+--------------------+----------------+--------+-----------------+----------------+-----------+---------+----------+----------+-----------------+----------------------+------------+----------+------------+---------+---+------+------+----------+-------+-------+--------+----------+----------+----------+---------+----------+--------+-------------------+---------+---------+---------+---------+--------+--------+-------+-------+-------+---------+---------+---------+-------+---------+---------+--------------------+-------+--------+-------+-------+----------+----------+----------+---------+----------+---------+----------+--------+---------+--------+----------+--------+--------+---------+---------+---+--------+----------+-------+--------+----------+---------+----------+---------+---------+----------+----------+--------------------+--------+--------+--------+-------+--------+--------+----------+-------+---------+-------+------+-------+------+-------+------+---------+----------+----------+----------+----------+----------+-------+----------+-------------+-------------+\n|_c0|borough1|        neighborhood|building_class_category|tax_class|block| lot|easement|building_class|            address9|apartment_number|zip_code|residential_units|commercial_units|total_units|land_sqft|gross_sqft|year_built|tax_class_at_sale|building_class_at_sale|  sale_price| sale_date|year_of_sale|Borough23| CD|CT2010|CB2010|SchoolDist|Council|ZipCode|FireComp|PolicePrct|HealthCent|HealthArea|SanitBoro|SanitDistr|SanitSub|          Address37|ZoneDist1|ZoneDist2|ZoneDist3|ZoneDist4|Overlay1|Overlay2|SPDist1|SPDist2|SPDist3|LtdHeight|SplitZone|BldgClass|LandUse|Easements|OwnerType|           OwnerName|LotArea|BldgArea|ComArea|ResArea|OfficeArea|RetailArea|GarageArea|StrgeArea|FactryArea|OtherArea|AreaSource|NumBldgs|NumFloors|UnitsRes|UnitsTotal|LotFront|LotDepth|BldgFront|BldgDepth|Ext|ProxCode|IrrLotCode|LotType|BsmtCode|AssessLand|AssessTot|ExemptLand|ExemptTot|YearBuilt|YearAlter1|YearAlter2|            HistDist|Landmark|BuiltFAR|ResidFAR|CommFAR|FacilFAR|BoroCode|       BBL|CondoNo|Tract2010| XCoord|YCoord|ZoneMap|ZMCode|Sanborn|TaxMap|EDesigNum|    APPBBL|   APPDate|PLUTOMapID|FIRM07_FLA|PFIRM15_FL|Version|MAPPLUTO_F|   SHAPE_Leng|   SHAPE_Area|\n+---+--------+--------------------+-----------------------+---------+-----+----+--------+--------------+--------------------+----------------+--------+-----------------+----------------+-----------+---------+----------+----------+-----------------+----------------------+------------+----------+------------+---------+---+------+------+----------+-------+-------+--------+----------+----------+----------+---------+----------+--------+-------------------+---------+---------+---------+---------+--------+--------+-------+-------+-------+---------+---------+---------+-------+---------+---------+--------------------+-------+--------+-------+-------+----------+----------+----------+---------+----------+---------+----------+--------+---------+--------+----------+--------+--------+---------+---------+---+--------+----------+-------+--------+----------+---------+----------+---------+---------+----------+----------+--------------------+--------+--------+--------+-------+--------+--------+----------+-------+---------+-------+------+-------+------+-------+------+---------+----------+----------+----------+----------+----------+-------+----------+-------------+-------------+\n|  1|       3|  DOWNTOWN-METROTECH|   28  COMMERCIAL CO...|        4|  140|1001|    null|            R5|      330 JAY STREET|           COURT|   11201|                0|               1|          1|      0.0|       0.0|      2002|                4|                    R5|4.99401179E8|2008-04-23|        2008|       NA| NA|    NA|    NA|        NA|     NA|     NA|      NA|        NA|        NA|        NA|       NA|        NA|      NA|                 NA|       NA|       NA|       NA|       NA|      NA|      NA|     NA|     NA|     NA|       NA|       NA|       NA|     NA|       NA|       NA|                  NA|     NA|      NA|     NA|     NA|        NA|        NA|        NA|       NA|        NA|       NA|        NA|      NA|       NA|      NA|        NA|      NA|      NA|       NA|       NA| NA|      NA|        NA|     NA|      NA|        NA|       NA|        NA|       NA|       NA|        NA|        NA|                  NA|      NA|      NA|      NA|     NA|      NA|      NA|        NA|     NA|       NA|     NA|    NA|     NA|    NA|     NA|    NA|       NA|        NA|        NA|        NA|        NA|        NA|     NA|        NA|           NA|           NA|\n|  2|       3|DOWNTOWN-FULTON F...|   29  COMMERCIAL GA...|        4|   54|   1|    null|            G7|       85 JAY STREET|            null|   11201|                0|               0|          0| 134988.0|       0.0|         0|                4|                    G7|      3.45E8|2016-12-20|        2016|       BK|302|    21|  3017|        13|     33|  11201|    L118|        84|        36|      1000|        3|        02|      1B|      87 JAY STREET|  M1-2/R8|       NA|       NA|       NA|      NA|      NA|   MX-2|     NA|     NA|       NA|        N|       G7|     10|        0|        P|85 JAY STREET BRO...| 134988|       0|      0|      0|         0|         0|         0|        0|         0|        0|         7|       0|        0|       0|         0|   490.5|  275.33|        0|        0| NA|       0|         N|      5|       5|   1571850|  1571850|   1571850|  1571850|        0|         0|         0|                  NA|      NA|       0|     7.2|      2|     6.5|       3|3000540001|      0|     0021| 988208|195011|    12d|    NA|302 016| 30101|       NA|3000540001|12/06/2002|         1|        NA|        NA| 17V1.1|         0|1559.88914353|140131.577176|\n|  3|       3|    BROOKLYN HEIGHTS|   21  OFFICE BUILDINGS|        4|  204|   1|    null|            O6| 29 COLUMBIA HEIGHTS|            null|   11201|                0|               0|          0|  32000.0|  304650.0|      1924|                4|                    O6|       3.4E8|2016-08-03|        2016|       BK|302|     1|  1003|        13|     33|  11201|    E205|        84|        38|      2300|        3|        02|      1A|29 COLUMBIA HEIGHTS|     M2-1|       NA|       NA|       NA|      NA|      NA|     NA|     NA|     NA|       NA|        N|       O6|     05|        0|       NA|25-30 COLUMBIA HE...|  32000|  304650| 304650|      0|    264750|         0|         0|        0|         0|    39900|         2|       1|       13|       0|         0|   92.42|  335.92|      335|       92| NA|       0|         Y|      3|       5|   1548000| 25463250|         0|        0|     1924|      1980|         0|                  NA|      NA|    9.52|       0|      2|       0|       3|3002040001|      0|     0001| 985952|195007|    12d|    NA|302 004| 30106|       NA|         0|        NA|         1|        NA|        NA| 17V1.1|         0|890.718521021|34656.4472405|\n|  4|       3|          MILL BASIN|    22  STORE BUILDINGS|        4| 8470|  55|    null|            K6|       5120 AVENUE U|            null|   11234|                0|             123|        123| 905000.0| 2548000.0|      1970|                4|                    K6|   2.76947E8|2012-11-28|        2012|       BK|318|   698|  2005|        22|     46|  11234|    E323|        63|        35|      8822|        3|        18|      4E|      5120 AVENUE U|     M3-1|       NA|       NA|       NA|      NA|      NA|     NA|     NA|     NA|       NA|        N|       K6|     05|        1|       NA|BROOKLYN KINGS PLAZA| 905000| 2548000|2548000|      0|         0|   1263000|   1285000|        0|         0|        0|         2|       4|        2|       0|       123|     930|     859|        0|        0| NA|       0|         Y|      3|       5|  36532350|149792400|         0|        0|     1970|         0|         0|                  NA|      NA|    2.82|       0|      2|       0|       3|3084700055|      0|     0698|1006597|161424|    23b|    NA|319 077| 32502|       NA|         0|        NA|         1|         1|         1| 17V1.1|         0|3729.78685686|797554.847834|\n|  5|       3|    BROOKLYN HEIGHTS|        26 OTHER HOTELS|        4|  230|   1|    null|            H8|     21 CLARK STREET|            null|   11201|                0|               1|          1|  20267.0|  356000.0|      1927|                4|                    H8|     2.025E8|2017-10-31|        2017|       BK|302|  3.01|  2000|        13|     33|  11201|    E205|        84|        38|      2300|        3|        02|      1A|   79 WILLOW STREET|       R6|       NA|       NA|       NA|      NA|      NA|     NA|     NA|     NA|     LH-1|        N|       H8|     08|        0|        X|WATCHTOWER C/O RE...|  20267|  356000|  30000|      0|     30000|         0|         0|        0|         0|        0|         2|       1|       15|       0|         1|     202|  100.33|      202|   100.33| NA|       0|         N|      3|       2|   2250000| 27166050|   2250000| 27166050|     1927|      1998|      2000|Brooklyn Heights ...|      NA|   17.57|    2.43|      0|     4.8|       3|3002300001|      0|   000301| 985622|193713|    12d|    NA|302 014| 30106|       NA|         0|        NA|         1|        NA|        NA| 17V1.1|         0|620.761169374|21360.1476315|\n|  6|       3|  WILLIAMSBURG-SOUTH|   31  COMMERCIAL VA...|        4| 2428|   1|    null|            V1|     329 KENT AVENUE|            null|   11249|                0|               0|          0|  57600.0|       0.0|         0|                4|                    V1|   1.85445E8|2012-10-11|        2012|       BK|301|   551|  1009|        14|     33|  11249|    E221|        90|        30|       400|        3|        01|      2B|    325 KENT AVENUE|       R6|       NA|       NA|       NA|    C2-4|      NA|     NA|     NA|     NA|       NA|        N|       D7|     04|        0|       NA|        325 KENT LLC|  57600|  382746|  11200| 371546|      1822|      9378|         0|        0|         0|        0|         2|       1|        0|     522|       525|     180|     320|      179|      315| NA|       0|         N|      3|       5|   3110400|  5579990|         0|        0|     2015|         0|         0|                  NA|      NA|    6.64|    2.43|      0|     4.8|       3|3024280001|      0|     0551| 993500|199202|    12d|    NA|303 007| 30806|    E-337|         0|        NA|         1|        NA|        NA| 17V1.1|         0|1006.33799946|58564.8643115|\n|  7|       3|    BROOKLYN HEIGHTS|    21 OFFICE BUILDINGS|        4|  250|  44|    null|            O4|     16 COURT STREET|            null|   11241|                0|             102|        102|  12500.0|  290440.0|      1928|                4|                    O4|      1.71E8|2017-10-10|        2017|       BK|302|     9|  1001|        13|     33|  11241|    E205|        84|        38|      2300|        3|        02|      1B|    16 COURT STREET|    C5-2A|       NA|       NA|       NA|      NA|      NA|     DB|     NA|     NA|       NA|        N|       O4|     05|        0|        P|16 COURT STREET O...|  12500|  290440| 290440|      0|    274500|     15940|         0|        0|         0|        0|         2|       1|       37|       0|       102|     100|     125|       92|      125| NA|       0|         Y|      3|       2|   2448000| 28309500|         0| 11304900|     1928|      2009|         0|Borough Hall Skys...|      NA|   23.24|      10|     10|      10|       3|3002500044|      0|     0009| 986784|191977|    12d|    NA|302 018| 30107|       NA|         0|        NA|         1|        NA|        NA| 17V1.1|         0|460.031680123| 12947.145471|\n|  8|       3|  WILLIAMSBURG-NORTH|   08  RENTALS - ELE...|        2| 2307|   1|    null|            D8|     250 N 10 STREET|            null|   11211|              234|               3|        237|  50173.0|  241764.0|      2012|                2|                    D8|      1.69E8|2015-05-01|        2015|       BK|301|   519|  1006|        14|     33|  11211|    E229|        94|        30|       700|        3|        01|      3B|236 NORTH 10 STREET| M1-2/R6A|       NA|       NA|       NA|      NA|      NA|   MX-8|     NA|     NA|       NA|        N|       D8|     03|        0|        P|BRKLYN NY 250 N 10TH|  50173|  241764|  27900| 213864|      4200|         0|     22200|     1500|         0|        0|         2|       1|        6|     234|       237|  521.25|     200|      500|      100| NA|       1|         N|      1|       2|   1354500| 23965650|    932847| 23543997|     2012|      2012|         0|                  NA|      NA|    4.82|       3|      2|       3|       3|3023070001|      0|     0519| 997307|200618|    13a|    NA|304 018| 30804|    E-138|3023070001|10/08/2013|         1|         1|        NA| 17V1.1|         0|1385.27352839|50772.6248688|\n|  9|       3|  WILLIAMSBURG-SOUTH|   29  COMMERCIAL GA...|        4| 2128|   5|    null|            G7|     418 KENT AVENUE|            null|   11249|                0|               0|          0|  44704.0|       0.0|         0|                4|                    G7|      1.65E8|2015-02-04|        2015|       BK|301|   549|  2006|        14|     33|  11249|    E221|        90|        30|       500|        3|        01|      4A|    418 KENT AVENUE|     R7-3|     C4-3|       NA|       NA|    C2-4|      NA|     NA|     NA|     NA|       NA|        Y|       D1|     03|        0|       NA| 420 KENT AVENUE LLC|  44704|  463427|   4884| 458543|         0|      4884|         0|        0|         0|        0|         2|       2|       20|     470|       472|  225.08|  281.86|        0|        0| NA|       0|         Y|      5|       5|   1699200|  3534300|         0|        0|     2016|         0|         0|                  NA|      NA|   10.37|       5|      0|       5|       3|3021280005|      0|     0549| 992807|198027|    12d|    NA|303 006| 30801|     R-47|3021280005|10/29/2014|         1|         1|         1| 17V1.1|         0|992.915660585|47019.5677861|\n| 10|       3|           NAVY YARD|         30  WAREHOUSES|        4| 1876|   1|    null|            E9|        9-47 HALL ST|            null|   11205|                0|               1|          1| 113800.0|  547000.0|      1912|                4|                    E9|      1.61E8|2016-03-04|        2016|       BK|302|   543|  2003|        14|     35|  11205|    L119|        88|        36|      9300|        3|        02|      4E|     39 HALL STREET|     M1-2|       NA|       NA|       NA|      NA|      NA|     NA|     NA|     NA|       NA|        N|       E9|     06|        0|        P|RXR 9-47 HALL STREET| 113800|  547000| 547000|      0|         0|         0|         0|        0|    547000|        0|         2|      13|        8|       0|         1|     569|     204|      304|    80.92| NA|       0|         Y|      3|       5|   1282500| 11295000|         0|        0|     1912|         0|         0|                  NA|      NA|    4.81|       0|      2|     4.8|       3|3018760001|      0|     0543| 993650|193137|    12d|    NA|302 049| 30701|       NA|         0|        NA|         1|        NA|        NA| 17V1.1|         0|1565.91477261|118754.785737|\n| 11|       3|  WILLIAMSBURG-NORTH|   41 TAX CLASS 4 - ...|        4| 2287|  16|    null|            Z9|  20 NORTH 12 STREET|            null|   11249|                0|               0|          0|  60400.0|       0.0|         0|                4|                    Z9|       1.6E8|2017-04-19|        2017|       BK|301|   557|  2001|        14|     33|  11249|    L106|        94|        30|       400|        3|        01|      NA| 20 NORTH 12 STREET|     M3-1|       NA|       NA|       NA|      NA|      NA|     NA|     NA|     NA|       NA|        N|       Z9|     NA|        0|        P|     10TH STREET LLC|  60400|       0|      0|      0|         0|         0|         0|        0|         0|        0|         7|       1|        0|       0|         0|     302|     200|        0|        0| NA|       0|         N|      5|       5|    504900|   504900|         0|        0|        0|         0|         0|                  NA|      NA|       0|       0|      2|       0|       3|3022870016|      0|     0557| 995151|202986|    12c|    NA|304 003| 30804|    E-138|         0|        NA|         1|         1|         1| 17V1.1|         0|1031.12366578|63814.7107802|\n| 12|       3|         FORT GREENE|   31  COMMERCIAL VA...|        4| 2094|   1|    null|            V1|          625 FULTON|            null|   11217|                0|               0|          0|  62472.0|       0.0|         0|                4|                    V1|      1.58E8|2016-01-13|        2016|       BK|302|    33|  2003|        13|     35|  11201|    E226|        88|        36|      1200|        3|        02|      1B|  625 FULTON STREET|     C6-4|       NA|       NA|       NA|      NA|      NA|     DB|     NA|     NA|       NA|        N|       V1|     11|        0|        P|    625 FULTON A LLC|  62472|       0|      0|      0|         0|         0|         0|        0|         0|        0|         4|       0|        0|       0|         0|      83|     307|        0|        0| NA|       0|         Y|      5|       5|   2811420|  2811420|         0|        0|        0|         0|         0|                  NA|      NA|       0|      10|     10|      10|       3|3020940001|      0|     0033| 989829|190359|    16c|    NA|302 026| 30706|       NA|3020940001|01/03/2008|         1|        NA|        NA| 17V1.1|         0|1056.81154834|63393.1018337|\n| 13|       3|DOWNTOWN-FULTON MALL|      11A CONDO-RENTALS|        2|  165|1001|    null|            RR|236 LIVINGSTON ST...|            LIHU|   11201|                8|               3|         11|  18175.0|    5802.0|      2009|                2|                    RR|    1.5425E8|2016-12-15|        2016|       NA| NA|    NA|    NA|        NA|     NA|     NA|      NA|        NA|        NA|        NA|       NA|        NA|      NA|                 NA|       NA|       NA|       NA|       NA|      NA|      NA|     NA|     NA|     NA|       NA|       NA|       NA|     NA|       NA|       NA|                  NA|     NA|      NA|     NA|     NA|        NA|        NA|        NA|       NA|        NA|       NA|        NA|      NA|       NA|      NA|        NA|      NA|      NA|       NA|       NA| NA|      NA|        NA|     NA|      NA|        NA|       NA|        NA|       NA|       NA|        NA|        NA|                  NA|      NA|      NA|      NA|     NA|      NA|      NA|        NA|     NA|       NA|     NA|    NA|     NA|    NA|     NA|    NA|       NA|        NA|        NA|        NA|        NA|        NA|     NA|        NA|           NA|           NA|\n| 14|       3|  DOWNTOWN-METROTECH|    21 OFFICE BUILDINGS|        4|   63|   1|    null|            O6|  55 PROSPECT STREET|            null|   11201|                0|               2|          2|  20704.0|  253096.0|      1967|                4|                    O6|1.38106368E8|2017-03-31|        2017|       BK|302|    21|  2029|        13|     33|  11201|    L118|        84|        36|      1000|        3|        02|      1B|   107 ADAMS STREET|     M1-6|       NA|       NA|       NA|      NA|      NA|     NA|     NA|     NA|       NA|        N|       O6|     05|        0|       NA|55 PROSPECT OWNER...|  20704|  253096| 253096|      0|    233705|     19391|         0|        0|         0|        0|         2|       1|       11|       0|         2|  100.75|     206|      100|      205| NA|       2|         Y|      3|       0|    544500| 17237700|         0|        0|     1967|      2014|         0|                  NA|      NA|   12.22|       0|     10|      10|       3|3000630001|      0|     0021| 987524|194630|    12d|    NA|302 015| 30102|       NA|         0|        NA|         1|        NA|        NA| 17V1.1|         0|621.710683646|21360.0301893|\n| 15|       3|DOWNTOWN-FULTON MALL|   28  COMMERCIAL CO...|        4|  159|1001|    null|            RK|   486 FULTON STREET|           LOWER|   11201|                0|               0|          1|      0.0|       0.0|      1920|                4|                    R5|   1.35212E8|2013-12-02|        2013|       NA| NA|    NA|    NA|        NA|     NA|     NA|      NA|        NA|        NA|        NA|       NA|        NA|      NA|                 NA|       NA|       NA|       NA|       NA|      NA|      NA|     NA|     NA|     NA|       NA|       NA|       NA|     NA|       NA|       NA|                  NA|     NA|      NA|     NA|     NA|        NA|        NA|        NA|       NA|        NA|       NA|        NA|      NA|       NA|      NA|        NA|      NA|      NA|       NA|       NA| NA|      NA|        NA|     NA|      NA|        NA|       NA|        NA|       NA|       NA|        NA|        NA|                  NA|      NA|      NA|      NA|     NA|      NA|      NA|        NA|     NA|       NA|     NA|    NA|     NA|    NA|     NA|    NA|       NA|        NA|        NA|        NA|        NA|        NA|     NA|        NA|           NA|           NA|\n| 16|       3|  DOWNTOWN-METROTECH|        26 OTHER HOTELS|        4|   87|   9|    null|            H8|     90 SANDS STREET|            null|   11201|                0|               1|          1|  21175.0|  363100.0|      1992|                4|                    H8|      1.35E8|2017-08-29|        2017|       BK|302|    13|  2002|        13|     33|  11201|    L118|        84|        36|      1000|        3|        02|      1B|    90 SANDS STREET|     M1-6|       NA|       NA|       NA|      NA|      NA|     NA|     NA|     NA|       NA|        N|       H8|     08|        0|        P|WATCHTOWER C/O RE...|  21175|  363100|  86353|      0|         0|         0|         0|        0|         0|    86353|         2|       1|     28.5|       0|         1|     103|  206.08|      103|   206.08| NA|       0|         N|      3|       5|   5760000| 29519100|   5760000| 29519100|     1992|         0|         0|                  NA|      NA|   17.15|       0|     10|      10|       3|3000870009|      0|     0013| 987811|194154|    12d|    NA|302 030| 30102|       NA|         0|        NA|         1|        NA|        NA| 17V1.1|         0|631.446195613|21861.4184568|\n| 17|       3|  WILLIAMSBURG-NORTH|   31  COMMERCIAL VA...|        4| 2282|   1|    null|            V1|      19 KENT AVENUE|            null|   11249|                0|               1|          1|  80000.0|       0.0|      1920|                4|                    V1|     1.324E8|2015-12-24|        2015|       BK|301|   557|  2002|        14|     33|  11249|    L106|        94|        30|       400|        3|        01|      1A|     19 KENT AVENUE|     M1-2|       NA|       NA|       NA|      NA|      NA|     NA|     NA|     NA|       NA|        N|       O6|     05|        0|       NA|19 KENT ACQUISITI...|  80000|  626140| 626140|      0|    159000|    243140|         0|        0|         0|   224000|         2|       1|       10|       0|        32|     200|     400|      150|      300| NA|       1|         Y|      1|       2|   3600000|  7826850|         0|        0|     2016|         0|         0|                  NA|      NA|    7.83|       0|      2|     4.8|       3|3022820001|      0|     0557| 995946|202671|    12c|    NA|304 032| 30804|    E-373|3022820001|08/27/2014|         1|         1|         1| 17V1.1|         0|1203.17419264|80813.2531628|\n| 18|       3|  WILLIAMSBURG-NORTH|   08  RENTALS - ELE...|        2| 2322|  10|    null|            D3|246 NORTH 8TH   S...|            null|   11211|              104|               0|        104|  20000.0|   88797.0|      2014|                2|                    D3|      1.25E8|2016-03-01|        2016|       BK|301|   519|  1009|        14|     33|  11211|    E229|        94|        30|       700|        3|        01|      3B| 246 NORTH 8 STREET| M1-2/R6A|       NA|       NA|       NA|      NA|      NA|   MX-8|     NA|     NA|       NA|        N|       D3|     03|        0|       NA|GS 247 N7TH WILLI...|  20000|   88797|  17609|  71188|         0|         0|     17609|        0|         0|        0|         2|       1|        7|     104|       104|     200|     100|      200|      100| NA|       0|         N|      0|       5|     9e+05| 11085300|         0|  8820264|     2014|      2008|         0|                  NA|      NA|    4.44|       3|      2|       3|       3|3023220010|      0|     0519| 996994|200202|    13a|    NA|304 017| 30804|    E-138|3023220010|02/09/2015|         1|         1|        NA| 17V1.1|         0|608.501487291|20808.0532882|\n| 19|       3|            CANARSIE|   29  COMMERCIAL GA...|        4| 7920|   1|    null|            G7|  8717 FOSTER AVENUE|            null|   11236|                0|               0|          0| 278821.0|       0.0|         0|                4|                    G7|      1.24E8|2012-12-05|        2012|       BK|318|   960|  1007|        18|     45|  11236|    E310|        69|        33|      7510|        3|        18|      2D| 8717 FOSTER AVENUE|     M1-1|       NA|       NA|       NA|      NA|      NA|     NA|     NA|     NA|       NA|        N|       G7|     10|        0|        P|COLE MT BROOKLYN NY,| 278821|       0|      0|      0|         0|         0|         0|        0|         0|        0|         7|       1|        0|       0|         0|  653.36|  759.05|        0|        0| NA|       0|         Y|      3|       5|   4324950|  4324950|         0|        0|        0|         0|         0|                  NA|      NA|       0|       0|      1|     2.4|       3|3079200001|      0|     0960|1007450|174221|    23a|    NA|317 020| 32401|       NA|3079200007|01/07/2011|         1|        NA|        NA| 17V1.1|         0|5692.27946456|354688.981113|\n| 20|       3|  DOWNTOWN-METROTECH|    21 OFFICE BUILDINGS|        4|   77|   1|    null|            O6|     77 SANDS STREET|            null|   11201|                0|               5|          5|  14800.0|  223712.0|      1962|                4|                    O6|1.21313223E8|2017-03-31|        2017|       BK|302|    13|  2000|        13|     33|  11201|    L118|        84|        36|      1000|        3|        02|      1B|   137 PEARL STREET|     M1-6|       NA|       NA|       NA|      NA|      NA|     NA|     NA|     NA|       NA|        N|       O6|     05|        0|       NA|  77 SANDS OWNER LLC|  14800|  223712| 223712|      0|    206860|     16852|         0|        0|         0|        0|         2|       1|       12|       0|         5|  100.08|     172|      100|      172| NA|       1|         Y|      1|       2|    399600| 15236550|         0|        0|     1962|      2014|         0|                  NA|      NA|   15.12|       0|     10|      10|       3|3000770001|      0|     0013| 987744|194462|    12d|    NA|302 016| 30102|       NA|         0|        NA|         1|        NA|        NA| 17V1.1|         0|530.358672781|16225.6446743|\n+---+--------+--------------------+-----------------------+---------+-----+----+--------+--------------+--------------------+----------------+--------+-----------------+----------------+-----------+---------+----------+----------+-----------------+----------------------+------------+----------+------------+---------+---+------+------+----------+-------+-------+--------+----------+----------+----------+---------+----------+--------+-------------------+---------+---------+---------+---------+--------+--------+-------+-------+-------+---------+---------+---------+-------+---------+---------+--------------------+-------+--------+-------+-------+----------+----------+----------+---------+----------+---------+----------+--------+---------+--------+----------+--------+--------+---------+---------+---+--------+----------+-------+--------+----------+---------+----------+---------+---------+----------+----------+--------------------+--------+--------+--------+-------+--------+--------+----------+-------+---------+-------+------+-------+------+-------+------+---------+----------+----------+----------+----------+----------+-------+----------+-------------+-------------+\nonly showing top 20 rows",
      "text/html": "<table border='1'>\n<tr><th>_c0</th><th>borough1</th><th>neighborhood</th><th>building_class_category</th><th>tax_class</th><th>block</th><th>lot</th><th>easement</th><th>building_class</th><th>address9</th><th>apartment_number</th><th>zip_code</th><th>residential_units</th><th>commercial_units</th><th>total_units</th><th>land_sqft</th><th>gross_sqft</th><th>year_built</th><th>tax_class_at_sale</th><th>building_class_at_sale</th><th>sale_price</th><th>sale_date</th><th>year_of_sale</th><th>Borough23</th><th>CD</th><th>CT2010</th><th>CB2010</th><th>SchoolDist</th><th>Council</th><th>ZipCode</th><th>FireComp</th><th>PolicePrct</th><th>HealthCent</th><th>HealthArea</th><th>SanitBoro</th><th>SanitDistr</th><th>SanitSub</th><th>Address37</th><th>ZoneDist1</th><th>ZoneDist2</th><th>ZoneDist3</th><th>ZoneDist4</th><th>Overlay1</th><th>Overlay2</th><th>SPDist1</th><th>SPDist2</th><th>SPDist3</th><th>LtdHeight</th><th>SplitZone</th><th>BldgClass</th><th>LandUse</th><th>Easements</th><th>OwnerType</th><th>OwnerName</th><th>LotArea</th><th>BldgArea</th><th>ComArea</th><th>ResArea</th><th>OfficeArea</th><th>RetailArea</th><th>GarageArea</th><th>StrgeArea</th><th>FactryArea</th><th>OtherArea</th><th>AreaSource</th><th>NumBldgs</th><th>NumFloors</th><th>UnitsRes</th><th>UnitsTotal</th><th>LotFront</th><th>LotDepth</th><th>BldgFront</th><th>BldgDepth</th><th>Ext</th><th>ProxCode</th><th>IrrLotCode</th><th>LotType</th><th>BsmtCode</th><th>AssessLand</th><th>AssessTot</th><th>ExemptLand</th><th>ExemptTot</th><th>YearBuilt</th><th>YearAlter1</th><th>YearAlter2</th><th>HistDist</th><th>Landmark</th><th>BuiltFAR</th><th>ResidFAR</th><th>CommFAR</th><th>FacilFAR</th><th>BoroCode</th><th>BBL</th><th>CondoNo</th><th>Tract2010</th><th>XCoord</th><th>YCoord</th><th>ZoneMap</th><th>ZMCode</th><th>Sanborn</th><th>TaxMap</th><th>EDesigNum</th><th>APPBBL</th><th>APPDate</th><th>PLUTOMapID</th><th>FIRM07_FLA</th><th>PFIRM15_FL</th><th>Version</th><th>MAPPLUTO_F</th><th>SHAPE_Leng</th><th>SHAPE_Area</th></tr>\n<tr><td>1</td><td>3</td><td>DOWNTOWN-METROTECH</td><td>28  COMMERCIAL CO...</td><td>4</td><td>140</td><td>1001</td><td>null</td><td>R5</td><td>330 JAY STREET</td><td>COURT</td><td>11201</td><td>0</td><td>1</td><td>1</td><td>0.0</td><td>0.0</td><td>2002</td><td>4</td><td>R5</td><td>4.99401179E8</td><td>2008-04-23</td><td>2008</td><td>NA</td><td>NA</td><td>NA</td><td>NA</td><td>NA</td><td>NA</td><td>NA</td><td>NA</td><td>NA</td><td>NA</td><td>NA</td><td>NA</td><td>NA</td><td>NA</td><td>NA</td><td>NA</td><td>NA</td><td>NA</td><td>NA</td><td>NA</td><td>NA</td><td>NA</td><td>NA</td><td>NA</td><td>NA</td><td>NA</td><td>NA</td><td>NA</td><td>NA</td><td>NA</td><td>NA</td><td>NA</td><td>NA</td><td>NA</td><td>NA</td><td>NA</td><td>NA</td><td>NA</td><td>NA</td><td>NA</td><td>NA</td><td>NA</td><td>NA</td><td>NA</td><td>NA</td><td>NA</td><td>NA</td><td>NA</td><td>NA</td><td>NA</td><td>NA</td><td>NA</td><td>NA</td><td>NA</td><td>NA</td><td>NA</td><td>NA</td><td>NA</td><td>NA</td><td>NA</td><td>NA</td><td>NA</td><td>NA</td><td>NA</td><td>NA</td><td>NA</td><td>NA</td><td>NA</td><td>NA</td><td>NA</td><td>NA</td><td>NA</td><td>NA</td><td>NA</td><td>NA</td><td>NA</td><td>NA</td><td>NA</td><td>NA</td><td>NA</td><td>NA</td><td>NA</td><td>NA</td><td>NA</td><td>NA</td><td>NA</td><td>NA</td><td>NA</td></tr>\n<tr><td>2</td><td>3</td><td>DOWNTOWN-FULTON F...</td><td>29  COMMERCIAL GA...</td><td>4</td><td>54</td><td>1</td><td>null</td><td>G7</td><td>85 JAY STREET</td><td>null</td><td>11201</td><td>0</td><td>0</td><td>0</td><td>134988.0</td><td>0.0</td><td>0</td><td>4</td><td>G7</td><td>3.45E8</td><td>2016-12-20</td><td>2016</td><td>BK</td><td>302</td><td>21</td><td>3017</td><td>13</td><td>33</td><td>11201</td><td>L118</td><td>84</td><td>36</td><td>1000</td><td>3</td><td>02</td><td>1B</td><td>87 JAY STREET</td><td>M1-2/R8</td><td>NA</td><td>NA</td><td>NA</td><td>NA</td><td>NA</td><td>MX-2</td><td>NA</td><td>NA</td><td>NA</td><td>N</td><td>G7</td><td>10</td><td>0</td><td>P</td><td>85 JAY STREET BRO...</td><td>134988</td><td>0</td><td>0</td><td>0</td><td>0</td><td>0</td><td>0</td><td>0</td><td>0</td><td>0</td><td>7</td><td>0</td><td>0</td><td>0</td><td>0</td><td>490.5</td><td>275.33</td><td>0</td><td>0</td><td>NA</td><td>0</td><td>N</td><td>5</td><td>5</td><td>1571850</td><td>1571850</td><td>1571850</td><td>1571850</td><td>0</td><td>0</td><td>0</td><td>NA</td><td>NA</td><td>0</td><td>7.2</td><td>2</td><td>6.5</td><td>3</td><td>3000540001</td><td>0</td><td>0021</td><td>988208</td><td>195011</td><td>12d</td><td>NA</td><td>302 016</td><td>30101</td><td>NA</td><td>3000540001</td><td>12/06/2002</td><td>1</td><td>NA</td><td>NA</td><td>17V1.1</td><td>0</td><td>1559.88914353</td><td>140131.577176</td></tr>\n<tr><td>3</td><td>3</td><td>BROOKLYN HEIGHTS</td><td>21  OFFICE BUILDINGS</td><td>4</td><td>204</td><td>1</td><td>null</td><td>O6</td><td>29 COLUMBIA HEIGHTS</td><td>null</td><td>11201</td><td>0</td><td>0</td><td>0</td><td>32000.0</td><td>304650.0</td><td>1924</td><td>4</td><td>O6</td><td>3.4E8</td><td>2016-08-03</td><td>2016</td><td>BK</td><td>302</td><td>1</td><td>1003</td><td>13</td><td>33</td><td>11201</td><td>E205</td><td>84</td><td>38</td><td>2300</td><td>3</td><td>02</td><td>1A</td><td>29 COLUMBIA HEIGHTS</td><td>M2-1</td><td>NA</td><td>NA</td><td>NA</td><td>NA</td><td>NA</td><td>NA</td><td>NA</td><td>NA</td><td>NA</td><td>N</td><td>O6</td><td>05</td><td>0</td><td>NA</td><td>25-30 COLUMBIA HE...</td><td>32000</td><td>304650</td><td>304650</td><td>0</td><td>264750</td><td>0</td><td>0</td><td>0</td><td>0</td><td>39900</td><td>2</td><td>1</td><td>13</td><td>0</td><td>0</td><td>92.42</td><td>335.92</td><td>335</td><td>92</td><td>NA</td><td>0</td><td>Y</td><td>3</td><td>5</td><td>1548000</td><td>25463250</td><td>0</td><td>0</td><td>1924</td><td>1980</td><td>0</td><td>NA</td><td>NA</td><td>9.52</td><td>0</td><td>2</td><td>0</td><td>3</td><td>3002040001</td><td>0</td><td>0001</td><td>985952</td><td>195007</td><td>12d</td><td>NA</td><td>302 004</td><td>30106</td><td>NA</td><td>0</td><td>NA</td><td>1</td><td>NA</td><td>NA</td><td>17V1.1</td><td>0</td><td>890.718521021</td><td>34656.4472405</td></tr>\n<tr><td>4</td><td>3</td><td>MILL BASIN</td><td>22  STORE BUILDINGS</td><td>4</td><td>8470</td><td>55</td><td>null</td><td>K6</td><td>5120 AVENUE U</td><td>null</td><td>11234</td><td>0</td><td>123</td><td>123</td><td>905000.0</td><td>2548000.0</td><td>1970</td><td>4</td><td>K6</td><td>2.76947E8</td><td>2012-11-28</td><td>2012</td><td>BK</td><td>318</td><td>698</td><td>2005</td><td>22</td><td>46</td><td>11234</td><td>E323</td><td>63</td><td>35</td><td>8822</td><td>3</td><td>18</td><td>4E</td><td>5120 AVENUE U</td><td>M3-1</td><td>NA</td><td>NA</td><td>NA</td><td>NA</td><td>NA</td><td>NA</td><td>NA</td><td>NA</td><td>NA</td><td>N</td><td>K6</td><td>05</td><td>1</td><td>NA</td><td>BROOKLYN KINGS PLAZA</td><td>905000</td><td>2548000</td><td>2548000</td><td>0</td><td>0</td><td>1263000</td><td>1285000</td><td>0</td><td>0</td><td>0</td><td>2</td><td>4</td><td>2</td><td>0</td><td>123</td><td>930</td><td>859</td><td>0</td><td>0</td><td>NA</td><td>0</td><td>Y</td><td>3</td><td>5</td><td>36532350</td><td>149792400</td><td>0</td><td>0</td><td>1970</td><td>0</td><td>0</td><td>NA</td><td>NA</td><td>2.82</td><td>0</td><td>2</td><td>0</td><td>3</td><td>3084700055</td><td>0</td><td>0698</td><td>1006597</td><td>161424</td><td>23b</td><td>NA</td><td>319 077</td><td>32502</td><td>NA</td><td>0</td><td>NA</td><td>1</td><td>1</td><td>1</td><td>17V1.1</td><td>0</td><td>3729.78685686</td><td>797554.847834</td></tr>\n<tr><td>5</td><td>3</td><td>BROOKLYN HEIGHTS</td><td>26 OTHER HOTELS</td><td>4</td><td>230</td><td>1</td><td>null</td><td>H8</td><td>21 CLARK STREET</td><td>null</td><td>11201</td><td>0</td><td>1</td><td>1</td><td>20267.0</td><td>356000.0</td><td>1927</td><td>4</td><td>H8</td><td>2.025E8</td><td>2017-10-31</td><td>2017</td><td>BK</td><td>302</td><td>3.01</td><td>2000</td><td>13</td><td>33</td><td>11201</td><td>E205</td><td>84</td><td>38</td><td>2300</td><td>3</td><td>02</td><td>1A</td><td>79 WILLOW STREET</td><td>R6</td><td>NA</td><td>NA</td><td>NA</td><td>NA</td><td>NA</td><td>NA</td><td>NA</td><td>NA</td><td>LH-1</td><td>N</td><td>H8</td><td>08</td><td>0</td><td>X</td><td>WATCHTOWER C/O RE...</td><td>20267</td><td>356000</td><td>30000</td><td>0</td><td>30000</td><td>0</td><td>0</td><td>0</td><td>0</td><td>0</td><td>2</td><td>1</td><td>15</td><td>0</td><td>1</td><td>202</td><td>100.33</td><td>202</td><td>100.33</td><td>NA</td><td>0</td><td>N</td><td>3</td><td>2</td><td>2250000</td><td>27166050</td><td>2250000</td><td>27166050</td><td>1927</td><td>1998</td><td>2000</td><td>Brooklyn Heights ...</td><td>NA</td><td>17.57</td><td>2.43</td><td>0</td><td>4.8</td><td>3</td><td>3002300001</td><td>0</td><td>000301</td><td>985622</td><td>193713</td><td>12d</td><td>NA</td><td>302 014</td><td>30106</td><td>NA</td><td>0</td><td>NA</td><td>1</td><td>NA</td><td>NA</td><td>17V1.1</td><td>0</td><td>620.761169374</td><td>21360.1476315</td></tr>\n<tr><td>6</td><td>3</td><td>WILLIAMSBURG-SOUTH</td><td>31  COMMERCIAL VA...</td><td>4</td><td>2428</td><td>1</td><td>null</td><td>V1</td><td>329 KENT AVENUE</td><td>null</td><td>11249</td><td>0</td><td>0</td><td>0</td><td>57600.0</td><td>0.0</td><td>0</td><td>4</td><td>V1</td><td>1.85445E8</td><td>2012-10-11</td><td>2012</td><td>BK</td><td>301</td><td>551</td><td>1009</td><td>14</td><td>33</td><td>11249</td><td>E221</td><td>90</td><td>30</td><td>400</td><td>3</td><td>01</td><td>2B</td><td>325 KENT AVENUE</td><td>R6</td><td>NA</td><td>NA</td><td>NA</td><td>C2-4</td><td>NA</td><td>NA</td><td>NA</td><td>NA</td><td>NA</td><td>N</td><td>D7</td><td>04</td><td>0</td><td>NA</td><td>325 KENT LLC</td><td>57600</td><td>382746</td><td>11200</td><td>371546</td><td>1822</td><td>9378</td><td>0</td><td>0</td><td>0</td><td>0</td><td>2</td><td>1</td><td>0</td><td>522</td><td>525</td><td>180</td><td>320</td><td>179</td><td>315</td><td>NA</td><td>0</td><td>N</td><td>3</td><td>5</td><td>3110400</td><td>5579990</td><td>0</td><td>0</td><td>2015</td><td>0</td><td>0</td><td>NA</td><td>NA</td><td>6.64</td><td>2.43</td><td>0</td><td>4.8</td><td>3</td><td>3024280001</td><td>0</td><td>0551</td><td>993500</td><td>199202</td><td>12d</td><td>NA</td><td>303 007</td><td>30806</td><td>E-337</td><td>0</td><td>NA</td><td>1</td><td>NA</td><td>NA</td><td>17V1.1</td><td>0</td><td>1006.33799946</td><td>58564.8643115</td></tr>\n<tr><td>7</td><td>3</td><td>BROOKLYN HEIGHTS</td><td>21 OFFICE BUILDINGS</td><td>4</td><td>250</td><td>44</td><td>null</td><td>O4</td><td>16 COURT STREET</td><td>null</td><td>11241</td><td>0</td><td>102</td><td>102</td><td>12500.0</td><td>290440.0</td><td>1928</td><td>4</td><td>O4</td><td>1.71E8</td><td>2017-10-10</td><td>2017</td><td>BK</td><td>302</td><td>9</td><td>1001</td><td>13</td><td>33</td><td>11241</td><td>E205</td><td>84</td><td>38</td><td>2300</td><td>3</td><td>02</td><td>1B</td><td>16 COURT STREET</td><td>C5-2A</td><td>NA</td><td>NA</td><td>NA</td><td>NA</td><td>NA</td><td>DB</td><td>NA</td><td>NA</td><td>NA</td><td>N</td><td>O4</td><td>05</td><td>0</td><td>P</td><td>16 COURT STREET O...</td><td>12500</td><td>290440</td><td>290440</td><td>0</td><td>274500</td><td>15940</td><td>0</td><td>0</td><td>0</td><td>0</td><td>2</td><td>1</td><td>37</td><td>0</td><td>102</td><td>100</td><td>125</td><td>92</td><td>125</td><td>NA</td><td>0</td><td>Y</td><td>3</td><td>2</td><td>2448000</td><td>28309500</td><td>0</td><td>11304900</td><td>1928</td><td>2009</td><td>0</td><td>Borough Hall Skys...</td><td>NA</td><td>23.24</td><td>10</td><td>10</td><td>10</td><td>3</td><td>3002500044</td><td>0</td><td>0009</td><td>986784</td><td>191977</td><td>12d</td><td>NA</td><td>302 018</td><td>30107</td><td>NA</td><td>0</td><td>NA</td><td>1</td><td>NA</td><td>NA</td><td>17V1.1</td><td>0</td><td>460.031680123</td><td>12947.145471</td></tr>\n<tr><td>8</td><td>3</td><td>WILLIAMSBURG-NORTH</td><td>08  RENTALS - ELE...</td><td>2</td><td>2307</td><td>1</td><td>null</td><td>D8</td><td>250 N 10 STREET</td><td>null</td><td>11211</td><td>234</td><td>3</td><td>237</td><td>50173.0</td><td>241764.0</td><td>2012</td><td>2</td><td>D8</td><td>1.69E8</td><td>2015-05-01</td><td>2015</td><td>BK</td><td>301</td><td>519</td><td>1006</td><td>14</td><td>33</td><td>11211</td><td>E229</td><td>94</td><td>30</td><td>700</td><td>3</td><td>01</td><td>3B</td><td>236 NORTH 10 STREET</td><td>M1-2/R6A</td><td>NA</td><td>NA</td><td>NA</td><td>NA</td><td>NA</td><td>MX-8</td><td>NA</td><td>NA</td><td>NA</td><td>N</td><td>D8</td><td>03</td><td>0</td><td>P</td><td>BRKLYN NY 250 N 10TH</td><td>50173</td><td>241764</td><td>27900</td><td>213864</td><td>4200</td><td>0</td><td>22200</td><td>1500</td><td>0</td><td>0</td><td>2</td><td>1</td><td>6</td><td>234</td><td>237</td><td>521.25</td><td>200</td><td>500</td><td>100</td><td>NA</td><td>1</td><td>N</td><td>1</td><td>2</td><td>1354500</td><td>23965650</td><td>932847</td><td>23543997</td><td>2012</td><td>2012</td><td>0</td><td>NA</td><td>NA</td><td>4.82</td><td>3</td><td>2</td><td>3</td><td>3</td><td>3023070001</td><td>0</td><td>0519</td><td>997307</td><td>200618</td><td>13a</td><td>NA</td><td>304 018</td><td>30804</td><td>E-138</td><td>3023070001</td><td>10/08/2013</td><td>1</td><td>1</td><td>NA</td><td>17V1.1</td><td>0</td><td>1385.27352839</td><td>50772.6248688</td></tr>\n<tr><td>9</td><td>3</td><td>WILLIAMSBURG-SOUTH</td><td>29  COMMERCIAL GA...</td><td>4</td><td>2128</td><td>5</td><td>null</td><td>G7</td><td>418 KENT AVENUE</td><td>null</td><td>11249</td><td>0</td><td>0</td><td>0</td><td>44704.0</td><td>0.0</td><td>0</td><td>4</td><td>G7</td><td>1.65E8</td><td>2015-02-04</td><td>2015</td><td>BK</td><td>301</td><td>549</td><td>2006</td><td>14</td><td>33</td><td>11249</td><td>E221</td><td>90</td><td>30</td><td>500</td><td>3</td><td>01</td><td>4A</td><td>418 KENT AVENUE</td><td>R7-3</td><td>C4-3</td><td>NA</td><td>NA</td><td>C2-4</td><td>NA</td><td>NA</td><td>NA</td><td>NA</td><td>NA</td><td>Y</td><td>D1</td><td>03</td><td>0</td><td>NA</td><td>420 KENT AVENUE LLC</td><td>44704</td><td>463427</td><td>4884</td><td>458543</td><td>0</td><td>4884</td><td>0</td><td>0</td><td>0</td><td>0</td><td>2</td><td>2</td><td>20</td><td>470</td><td>472</td><td>225.08</td><td>281.86</td><td>0</td><td>0</td><td>NA</td><td>0</td><td>Y</td><td>5</td><td>5</td><td>1699200</td><td>3534300</td><td>0</td><td>0</td><td>2016</td><td>0</td><td>0</td><td>NA</td><td>NA</td><td>10.37</td><td>5</td><td>0</td><td>5</td><td>3</td><td>3021280005</td><td>0</td><td>0549</td><td>992807</td><td>198027</td><td>12d</td><td>NA</td><td>303 006</td><td>30801</td><td>R-47</td><td>3021280005</td><td>10/29/2014</td><td>1</td><td>1</td><td>1</td><td>17V1.1</td><td>0</td><td>992.915660585</td><td>47019.5677861</td></tr>\n<tr><td>10</td><td>3</td><td>NAVY YARD</td><td>30  WAREHOUSES</td><td>4</td><td>1876</td><td>1</td><td>null</td><td>E9</td><td>9-47 HALL ST</td><td>null</td><td>11205</td><td>0</td><td>1</td><td>1</td><td>113800.0</td><td>547000.0</td><td>1912</td><td>4</td><td>E9</td><td>1.61E8</td><td>2016-03-04</td><td>2016</td><td>BK</td><td>302</td><td>543</td><td>2003</td><td>14</td><td>35</td><td>11205</td><td>L119</td><td>88</td><td>36</td><td>9300</td><td>3</td><td>02</td><td>4E</td><td>39 HALL STREET</td><td>M1-2</td><td>NA</td><td>NA</td><td>NA</td><td>NA</td><td>NA</td><td>NA</td><td>NA</td><td>NA</td><td>NA</td><td>N</td><td>E9</td><td>06</td><td>0</td><td>P</td><td>RXR 9-47 HALL STREET</td><td>113800</td><td>547000</td><td>547000</td><td>0</td><td>0</td><td>0</td><td>0</td><td>0</td><td>547000</td><td>0</td><td>2</td><td>13</td><td>8</td><td>0</td><td>1</td><td>569</td><td>204</td><td>304</td><td>80.92</td><td>NA</td><td>0</td><td>Y</td><td>3</td><td>5</td><td>1282500</td><td>11295000</td><td>0</td><td>0</td><td>1912</td><td>0</td><td>0</td><td>NA</td><td>NA</td><td>4.81</td><td>0</td><td>2</td><td>4.8</td><td>3</td><td>3018760001</td><td>0</td><td>0543</td><td>993650</td><td>193137</td><td>12d</td><td>NA</td><td>302 049</td><td>30701</td><td>NA</td><td>0</td><td>NA</td><td>1</td><td>NA</td><td>NA</td><td>17V1.1</td><td>0</td><td>1565.91477261</td><td>118754.785737</td></tr>\n<tr><td>11</td><td>3</td><td>WILLIAMSBURG-NORTH</td><td>41 TAX CLASS 4 - ...</td><td>4</td><td>2287</td><td>16</td><td>null</td><td>Z9</td><td>20 NORTH 12 STREET</td><td>null</td><td>11249</td><td>0</td><td>0</td><td>0</td><td>60400.0</td><td>0.0</td><td>0</td><td>4</td><td>Z9</td><td>1.6E8</td><td>2017-04-19</td><td>2017</td><td>BK</td><td>301</td><td>557</td><td>2001</td><td>14</td><td>33</td><td>11249</td><td>L106</td><td>94</td><td>30</td><td>400</td><td>3</td><td>01</td><td>NA</td><td>20 NORTH 12 STREET</td><td>M3-1</td><td>NA</td><td>NA</td><td>NA</td><td>NA</td><td>NA</td><td>NA</td><td>NA</td><td>NA</td><td>NA</td><td>N</td><td>Z9</td><td>NA</td><td>0</td><td>P</td><td>10TH STREET LLC</td><td>60400</td><td>0</td><td>0</td><td>0</td><td>0</td><td>0</td><td>0</td><td>0</td><td>0</td><td>0</td><td>7</td><td>1</td><td>0</td><td>0</td><td>0</td><td>302</td><td>200</td><td>0</td><td>0</td><td>NA</td><td>0</td><td>N</td><td>5</td><td>5</td><td>504900</td><td>504900</td><td>0</td><td>0</td><td>0</td><td>0</td><td>0</td><td>NA</td><td>NA</td><td>0</td><td>0</td><td>2</td><td>0</td><td>3</td><td>3022870016</td><td>0</td><td>0557</td><td>995151</td><td>202986</td><td>12c</td><td>NA</td><td>304 003</td><td>30804</td><td>E-138</td><td>0</td><td>NA</td><td>1</td><td>1</td><td>1</td><td>17V1.1</td><td>0</td><td>1031.12366578</td><td>63814.7107802</td></tr>\n<tr><td>12</td><td>3</td><td>FORT GREENE</td><td>31  COMMERCIAL VA...</td><td>4</td><td>2094</td><td>1</td><td>null</td><td>V1</td><td>625 FULTON</td><td>null</td><td>11217</td><td>0</td><td>0</td><td>0</td><td>62472.0</td><td>0.0</td><td>0</td><td>4</td><td>V1</td><td>1.58E8</td><td>2016-01-13</td><td>2016</td><td>BK</td><td>302</td><td>33</td><td>2003</td><td>13</td><td>35</td><td>11201</td><td>E226</td><td>88</td><td>36</td><td>1200</td><td>3</td><td>02</td><td>1B</td><td>625 FULTON STREET</td><td>C6-4</td><td>NA</td><td>NA</td><td>NA</td><td>NA</td><td>NA</td><td>DB</td><td>NA</td><td>NA</td><td>NA</td><td>N</td><td>V1</td><td>11</td><td>0</td><td>P</td><td>625 FULTON A LLC</td><td>62472</td><td>0</td><td>0</td><td>0</td><td>0</td><td>0</td><td>0</td><td>0</td><td>0</td><td>0</td><td>4</td><td>0</td><td>0</td><td>0</td><td>0</td><td>83</td><td>307</td><td>0</td><td>0</td><td>NA</td><td>0</td><td>Y</td><td>5</td><td>5</td><td>2811420</td><td>2811420</td><td>0</td><td>0</td><td>0</td><td>0</td><td>0</td><td>NA</td><td>NA</td><td>0</td><td>10</td><td>10</td><td>10</td><td>3</td><td>3020940001</td><td>0</td><td>0033</td><td>989829</td><td>190359</td><td>16c</td><td>NA</td><td>302 026</td><td>30706</td><td>NA</td><td>3020940001</td><td>01/03/2008</td><td>1</td><td>NA</td><td>NA</td><td>17V1.1</td><td>0</td><td>1056.81154834</td><td>63393.1018337</td></tr>\n<tr><td>13</td><td>3</td><td>DOWNTOWN-FULTON MALL</td><td>11A CONDO-RENTALS</td><td>2</td><td>165</td><td>1001</td><td>null</td><td>RR</td><td>236 LIVINGSTON ST...</td><td>LIHU</td><td>11201</td><td>8</td><td>3</td><td>11</td><td>18175.0</td><td>5802.0</td><td>2009</td><td>2</td><td>RR</td><td>1.5425E8</td><td>2016-12-15</td><td>2016</td><td>NA</td><td>NA</td><td>NA</td><td>NA</td><td>NA</td><td>NA</td><td>NA</td><td>NA</td><td>NA</td><td>NA</td><td>NA</td><td>NA</td><td>NA</td><td>NA</td><td>NA</td><td>NA</td><td>NA</td><td>NA</td><td>NA</td><td>NA</td><td>NA</td><td>NA</td><td>NA</td><td>NA</td><td>NA</td><td>NA</td><td>NA</td><td>NA</td><td>NA</td><td>NA</td><td>NA</td><td>NA</td><td>NA</td><td>NA</td><td>NA</td><td>NA</td><td>NA</td><td>NA</td><td>NA</td><td>NA</td><td>NA</td><td>NA</td><td>NA</td><td>NA</td><td>NA</td><td>NA</td><td>NA</td><td>NA</td><td>NA</td><td>NA</td><td>NA</td><td>NA</td><td>NA</td><td>NA</td><td>NA</td><td>NA</td><td>NA</td><td>NA</td><td>NA</td><td>NA</td><td>NA</td><td>NA</td><td>NA</td><td>NA</td><td>NA</td><td>NA</td><td>NA</td><td>NA</td><td>NA</td><td>NA</td><td>NA</td><td>NA</td><td>NA</td><td>NA</td><td>NA</td><td>NA</td><td>NA</td><td>NA</td><td>NA</td><td>NA</td><td>NA</td><td>NA</td><td>NA</td><td>NA</td><td>NA</td><td>NA</td><td>NA</td><td>NA</td></tr>\n<tr><td>14</td><td>3</td><td>DOWNTOWN-METROTECH</td><td>21 OFFICE BUILDINGS</td><td>4</td><td>63</td><td>1</td><td>null</td><td>O6</td><td>55 PROSPECT STREET</td><td>null</td><td>11201</td><td>0</td><td>2</td><td>2</td><td>20704.0</td><td>253096.0</td><td>1967</td><td>4</td><td>O6</td><td>1.38106368E8</td><td>2017-03-31</td><td>2017</td><td>BK</td><td>302</td><td>21</td><td>2029</td><td>13</td><td>33</td><td>11201</td><td>L118</td><td>84</td><td>36</td><td>1000</td><td>3</td><td>02</td><td>1B</td><td>107 ADAMS STREET</td><td>M1-6</td><td>NA</td><td>NA</td><td>NA</td><td>NA</td><td>NA</td><td>NA</td><td>NA</td><td>NA</td><td>NA</td><td>N</td><td>O6</td><td>05</td><td>0</td><td>NA</td><td>55 PROSPECT OWNER...</td><td>20704</td><td>253096</td><td>253096</td><td>0</td><td>233705</td><td>19391</td><td>0</td><td>0</td><td>0</td><td>0</td><td>2</td><td>1</td><td>11</td><td>0</td><td>2</td><td>100.75</td><td>206</td><td>100</td><td>205</td><td>NA</td><td>2</td><td>Y</td><td>3</td><td>0</td><td>544500</td><td>17237700</td><td>0</td><td>0</td><td>1967</td><td>2014</td><td>0</td><td>NA</td><td>NA</td><td>12.22</td><td>0</td><td>10</td><td>10</td><td>3</td><td>3000630001</td><td>0</td><td>0021</td><td>987524</td><td>194630</td><td>12d</td><td>NA</td><td>302 015</td><td>30102</td><td>NA</td><td>0</td><td>NA</td><td>1</td><td>NA</td><td>NA</td><td>17V1.1</td><td>0</td><td>621.710683646</td><td>21360.0301893</td></tr>\n<tr><td>15</td><td>3</td><td>DOWNTOWN-FULTON MALL</td><td>28  COMMERCIAL CO...</td><td>4</td><td>159</td><td>1001</td><td>null</td><td>RK</td><td>486 FULTON STREET</td><td>LOWER</td><td>11201</td><td>0</td><td>0</td><td>1</td><td>0.0</td><td>0.0</td><td>1920</td><td>4</td><td>R5</td><td>1.35212E8</td><td>2013-12-02</td><td>2013</td><td>NA</td><td>NA</td><td>NA</td><td>NA</td><td>NA</td><td>NA</td><td>NA</td><td>NA</td><td>NA</td><td>NA</td><td>NA</td><td>NA</td><td>NA</td><td>NA</td><td>NA</td><td>NA</td><td>NA</td><td>NA</td><td>NA</td><td>NA</td><td>NA</td><td>NA</td><td>NA</td><td>NA</td><td>NA</td><td>NA</td><td>NA</td><td>NA</td><td>NA</td><td>NA</td><td>NA</td><td>NA</td><td>NA</td><td>NA</td><td>NA</td><td>NA</td><td>NA</td><td>NA</td><td>NA</td><td>NA</td><td>NA</td><td>NA</td><td>NA</td><td>NA</td><td>NA</td><td>NA</td><td>NA</td><td>NA</td><td>NA</td><td>NA</td><td>NA</td><td>NA</td><td>NA</td><td>NA</td><td>NA</td><td>NA</td><td>NA</td><td>NA</td><td>NA</td><td>NA</td><td>NA</td><td>NA</td><td>NA</td><td>NA</td><td>NA</td><td>NA</td><td>NA</td><td>NA</td><td>NA</td><td>NA</td><td>NA</td><td>NA</td><td>NA</td><td>NA</td><td>NA</td><td>NA</td><td>NA</td><td>NA</td><td>NA</td><td>NA</td><td>NA</td><td>NA</td><td>NA</td><td>NA</td><td>NA</td><td>NA</td><td>NA</td><td>NA</td></tr>\n<tr><td>16</td><td>3</td><td>DOWNTOWN-METROTECH</td><td>26 OTHER HOTELS</td><td>4</td><td>87</td><td>9</td><td>null</td><td>H8</td><td>90 SANDS STREET</td><td>null</td><td>11201</td><td>0</td><td>1</td><td>1</td><td>21175.0</td><td>363100.0</td><td>1992</td><td>4</td><td>H8</td><td>1.35E8</td><td>2017-08-29</td><td>2017</td><td>BK</td><td>302</td><td>13</td><td>2002</td><td>13</td><td>33</td><td>11201</td><td>L118</td><td>84</td><td>36</td><td>1000</td><td>3</td><td>02</td><td>1B</td><td>90 SANDS STREET</td><td>M1-6</td><td>NA</td><td>NA</td><td>NA</td><td>NA</td><td>NA</td><td>NA</td><td>NA</td><td>NA</td><td>NA</td><td>N</td><td>H8</td><td>08</td><td>0</td><td>P</td><td>WATCHTOWER C/O RE...</td><td>21175</td><td>363100</td><td>86353</td><td>0</td><td>0</td><td>0</td><td>0</td><td>0</td><td>0</td><td>86353</td><td>2</td><td>1</td><td>28.5</td><td>0</td><td>1</td><td>103</td><td>206.08</td><td>103</td><td>206.08</td><td>NA</td><td>0</td><td>N</td><td>3</td><td>5</td><td>5760000</td><td>29519100</td><td>5760000</td><td>29519100</td><td>1992</td><td>0</td><td>0</td><td>NA</td><td>NA</td><td>17.15</td><td>0</td><td>10</td><td>10</td><td>3</td><td>3000870009</td><td>0</td><td>0013</td><td>987811</td><td>194154</td><td>12d</td><td>NA</td><td>302 030</td><td>30102</td><td>NA</td><td>0</td><td>NA</td><td>1</td><td>NA</td><td>NA</td><td>17V1.1</td><td>0</td><td>631.446195613</td><td>21861.4184568</td></tr>\n<tr><td>17</td><td>3</td><td>WILLIAMSBURG-NORTH</td><td>31  COMMERCIAL VA...</td><td>4</td><td>2282</td><td>1</td><td>null</td><td>V1</td><td>19 KENT AVENUE</td><td>null</td><td>11249</td><td>0</td><td>1</td><td>1</td><td>80000.0</td><td>0.0</td><td>1920</td><td>4</td><td>V1</td><td>1.324E8</td><td>2015-12-24</td><td>2015</td><td>BK</td><td>301</td><td>557</td><td>2002</td><td>14</td><td>33</td><td>11249</td><td>L106</td><td>94</td><td>30</td><td>400</td><td>3</td><td>01</td><td>1A</td><td>19 KENT AVENUE</td><td>M1-2</td><td>NA</td><td>NA</td><td>NA</td><td>NA</td><td>NA</td><td>NA</td><td>NA</td><td>NA</td><td>NA</td><td>N</td><td>O6</td><td>05</td><td>0</td><td>NA</td><td>19 KENT ACQUISITI...</td><td>80000</td><td>626140</td><td>626140</td><td>0</td><td>159000</td><td>243140</td><td>0</td><td>0</td><td>0</td><td>224000</td><td>2</td><td>1</td><td>10</td><td>0</td><td>32</td><td>200</td><td>400</td><td>150</td><td>300</td><td>NA</td><td>1</td><td>Y</td><td>1</td><td>2</td><td>3600000</td><td>7826850</td><td>0</td><td>0</td><td>2016</td><td>0</td><td>0</td><td>NA</td><td>NA</td><td>7.83</td><td>0</td><td>2</td><td>4.8</td><td>3</td><td>3022820001</td><td>0</td><td>0557</td><td>995946</td><td>202671</td><td>12c</td><td>NA</td><td>304 032</td><td>30804</td><td>E-373</td><td>3022820001</td><td>08/27/2014</td><td>1</td><td>1</td><td>1</td><td>17V1.1</td><td>0</td><td>1203.17419264</td><td>80813.2531628</td></tr>\n<tr><td>18</td><td>3</td><td>WILLIAMSBURG-NORTH</td><td>08  RENTALS - ELE...</td><td>2</td><td>2322</td><td>10</td><td>null</td><td>D3</td><td>246 NORTH 8TH   S...</td><td>null</td><td>11211</td><td>104</td><td>0</td><td>104</td><td>20000.0</td><td>88797.0</td><td>2014</td><td>2</td><td>D3</td><td>1.25E8</td><td>2016-03-01</td><td>2016</td><td>BK</td><td>301</td><td>519</td><td>1009</td><td>14</td><td>33</td><td>11211</td><td>E229</td><td>94</td><td>30</td><td>700</td><td>3</td><td>01</td><td>3B</td><td>246 NORTH 8 STREET</td><td>M1-2/R6A</td><td>NA</td><td>NA</td><td>NA</td><td>NA</td><td>NA</td><td>MX-8</td><td>NA</td><td>NA</td><td>NA</td><td>N</td><td>D3</td><td>03</td><td>0</td><td>NA</td><td>GS 247 N7TH WILLI...</td><td>20000</td><td>88797</td><td>17609</td><td>71188</td><td>0</td><td>0</td><td>17609</td><td>0</td><td>0</td><td>0</td><td>2</td><td>1</td><td>7</td><td>104</td><td>104</td><td>200</td><td>100</td><td>200</td><td>100</td><td>NA</td><td>0</td><td>N</td><td>0</td><td>5</td><td>9e+05</td><td>11085300</td><td>0</td><td>8820264</td><td>2014</td><td>2008</td><td>0</td><td>NA</td><td>NA</td><td>4.44</td><td>3</td><td>2</td><td>3</td><td>3</td><td>3023220010</td><td>0</td><td>0519</td><td>996994</td><td>200202</td><td>13a</td><td>NA</td><td>304 017</td><td>30804</td><td>E-138</td><td>3023220010</td><td>02/09/2015</td><td>1</td><td>1</td><td>NA</td><td>17V1.1</td><td>0</td><td>608.501487291</td><td>20808.0532882</td></tr>\n<tr><td>19</td><td>3</td><td>CANARSIE</td><td>29  COMMERCIAL GA...</td><td>4</td><td>7920</td><td>1</td><td>null</td><td>G7</td><td>8717 FOSTER AVENUE</td><td>null</td><td>11236</td><td>0</td><td>0</td><td>0</td><td>278821.0</td><td>0.0</td><td>0</td><td>4</td><td>G7</td><td>1.24E8</td><td>2012-12-05</td><td>2012</td><td>BK</td><td>318</td><td>960</td><td>1007</td><td>18</td><td>45</td><td>11236</td><td>E310</td><td>69</td><td>33</td><td>7510</td><td>3</td><td>18</td><td>2D</td><td>8717 FOSTER AVENUE</td><td>M1-1</td><td>NA</td><td>NA</td><td>NA</td><td>NA</td><td>NA</td><td>NA</td><td>NA</td><td>NA</td><td>NA</td><td>N</td><td>G7</td><td>10</td><td>0</td><td>P</td><td>COLE MT BROOKLYN NY,</td><td>278821</td><td>0</td><td>0</td><td>0</td><td>0</td><td>0</td><td>0</td><td>0</td><td>0</td><td>0</td><td>7</td><td>1</td><td>0</td><td>0</td><td>0</td><td>653.36</td><td>759.05</td><td>0</td><td>0</td><td>NA</td><td>0</td><td>Y</td><td>3</td><td>5</td><td>4324950</td><td>4324950</td><td>0</td><td>0</td><td>0</td><td>0</td><td>0</td><td>NA</td><td>NA</td><td>0</td><td>0</td><td>1</td><td>2.4</td><td>3</td><td>3079200001</td><td>0</td><td>0960</td><td>1007450</td><td>174221</td><td>23a</td><td>NA</td><td>317 020</td><td>32401</td><td>NA</td><td>3079200007</td><td>01/07/2011</td><td>1</td><td>NA</td><td>NA</td><td>17V1.1</td><td>0</td><td>5692.27946456</td><td>354688.981113</td></tr>\n<tr><td>20</td><td>3</td><td>DOWNTOWN-METROTECH</td><td>21 OFFICE BUILDINGS</td><td>4</td><td>77</td><td>1</td><td>null</td><td>O6</td><td>77 SANDS STREET</td><td>null</td><td>11201</td><td>0</td><td>5</td><td>5</td><td>14800.0</td><td>223712.0</td><td>1962</td><td>4</td><td>O6</td><td>1.21313223E8</td><td>2017-03-31</td><td>2017</td><td>BK</td><td>302</td><td>13</td><td>2000</td><td>13</td><td>33</td><td>11201</td><td>L118</td><td>84</td><td>36</td><td>1000</td><td>3</td><td>02</td><td>1B</td><td>137 PEARL STREET</td><td>M1-6</td><td>NA</td><td>NA</td><td>NA</td><td>NA</td><td>NA</td><td>NA</td><td>NA</td><td>NA</td><td>NA</td><td>N</td><td>O6</td><td>05</td><td>0</td><td>NA</td><td>77 SANDS OWNER LLC</td><td>14800</td><td>223712</td><td>223712</td><td>0</td><td>206860</td><td>16852</td><td>0</td><td>0</td><td>0</td><td>0</td><td>2</td><td>1</td><td>12</td><td>0</td><td>5</td><td>100.08</td><td>172</td><td>100</td><td>172</td><td>NA</td><td>1</td><td>Y</td><td>1</td><td>2</td><td>399600</td><td>15236550</td><td>0</td><td>0</td><td>1962</td><td>2014</td><td>0</td><td>NA</td><td>NA</td><td>15.12</td><td>0</td><td>10</td><td>10</td><td>3</td><td>3000770001</td><td>0</td><td>0013</td><td>987744</td><td>194462</td><td>12d</td><td>NA</td><td>302 016</td><td>30102</td><td>NA</td><td>0</td><td>NA</td><td>1</td><td>NA</td><td>NA</td><td>17V1.1</td><td>0</td><td>530.358672781</td><td>16225.6446743</td></tr>\n</table>\nonly showing top 20 rows\n"
     },
     "execution_count": 3,
     "metadata": {},
     "output_type": "execute_result"
    }
   ],
   "source": [
    "df = spark.read.csv('brooklyn_sales_map.csv', header=True, inferSchema=True)\n",
    "df"
   ]
  },
  {
   "cell_type": "markdown",
   "source": [
    "Краткое описание файла"
   ],
   "metadata": {
    "collapsed": false,
    "pycharm": {
     "name": "#%% md\n"
    }
   }
  },
  {
   "cell_type": "code",
   "execution_count": 4,
   "metadata": {
    "pycharm": {
     "name": "#%%\n"
    }
   },
   "outputs": [
    {
     "name": "stdout",
     "output_type": "stream",
     "text": [
      "root\n",
      " |-- _c0: integer (nullable = true)\n",
      " |-- borough1: integer (nullable = true)\n",
      " |-- neighborhood: string (nullable = true)\n",
      " |-- building_class_category: string (nullable = true)\n",
      " |-- tax_class: string (nullable = true)\n",
      " |-- block: integer (nullable = true)\n",
      " |-- lot: integer (nullable = true)\n",
      " |-- easement: string (nullable = true)\n",
      " |-- building_class: string (nullable = true)\n",
      " |-- address9: string (nullable = true)\n",
      " |-- apartment_number: string (nullable = true)\n",
      " |-- zip_code: integer (nullable = true)\n",
      " |-- residential_units: integer (nullable = true)\n",
      " |-- commercial_units: integer (nullable = true)\n",
      " |-- total_units: integer (nullable = true)\n",
      " |-- land_sqft: double (nullable = true)\n",
      " |-- gross_sqft: double (nullable = true)\n",
      " |-- year_built: integer (nullable = true)\n",
      " |-- tax_class_at_sale: integer (nullable = true)\n",
      " |-- building_class_at_sale: string (nullable = true)\n",
      " |-- sale_price: double (nullable = true)\n",
      " |-- sale_date: string (nullable = true)\n",
      " |-- year_of_sale: integer (nullable = true)\n",
      " |-- Borough23: string (nullable = true)\n",
      " |-- CD: string (nullable = true)\n",
      " |-- CT2010: string (nullable = true)\n",
      " |-- CB2010: string (nullable = true)\n",
      " |-- SchoolDist: string (nullable = true)\n",
      " |-- Council: string (nullable = true)\n",
      " |-- ZipCode: string (nullable = true)\n",
      " |-- FireComp: string (nullable = true)\n",
      " |-- PolicePrct: string (nullable = true)\n",
      " |-- HealthCent: string (nullable = true)\n",
      " |-- HealthArea: string (nullable = true)\n",
      " |-- SanitBoro: string (nullable = true)\n",
      " |-- SanitDistr: string (nullable = true)\n",
      " |-- SanitSub: string (nullable = true)\n",
      " |-- Address37: string (nullable = true)\n",
      " |-- ZoneDist1: string (nullable = true)\n",
      " |-- ZoneDist2: string (nullable = true)\n",
      " |-- ZoneDist3: string (nullable = true)\n",
      " |-- ZoneDist4: string (nullable = true)\n",
      " |-- Overlay1: string (nullable = true)\n",
      " |-- Overlay2: string (nullable = true)\n",
      " |-- SPDist1: string (nullable = true)\n",
      " |-- SPDist2: string (nullable = true)\n",
      " |-- SPDist3: string (nullable = true)\n",
      " |-- LtdHeight: string (nullable = true)\n",
      " |-- SplitZone: string (nullable = true)\n",
      " |-- BldgClass: string (nullable = true)\n",
      " |-- LandUse: string (nullable = true)\n",
      " |-- Easements: string (nullable = true)\n",
      " |-- OwnerType: string (nullable = true)\n",
      " |-- OwnerName: string (nullable = true)\n",
      " |-- LotArea: string (nullable = true)\n",
      " |-- BldgArea: string (nullable = true)\n",
      " |-- ComArea: string (nullable = true)\n",
      " |-- ResArea: string (nullable = true)\n",
      " |-- OfficeArea: string (nullable = true)\n",
      " |-- RetailArea: string (nullable = true)\n",
      " |-- GarageArea: string (nullable = true)\n",
      " |-- StrgeArea: string (nullable = true)\n",
      " |-- FactryArea: string (nullable = true)\n",
      " |-- OtherArea: string (nullable = true)\n",
      " |-- AreaSource: string (nullable = true)\n",
      " |-- NumBldgs: string (nullable = true)\n",
      " |-- NumFloors: string (nullable = true)\n",
      " |-- UnitsRes: string (nullable = true)\n",
      " |-- UnitsTotal: string (nullable = true)\n",
      " |-- LotFront: string (nullable = true)\n",
      " |-- LotDepth: string (nullable = true)\n",
      " |-- BldgFront: string (nullable = true)\n",
      " |-- BldgDepth: string (nullable = true)\n",
      " |-- Ext: string (nullable = true)\n",
      " |-- ProxCode: string (nullable = true)\n",
      " |-- IrrLotCode: string (nullable = true)\n",
      " |-- LotType: string (nullable = true)\n",
      " |-- BsmtCode: string (nullable = true)\n",
      " |-- AssessLand: string (nullable = true)\n",
      " |-- AssessTot: string (nullable = true)\n",
      " |-- ExemptLand: string (nullable = true)\n",
      " |-- ExemptTot: string (nullable = true)\n",
      " |-- YearBuilt: string (nullable = true)\n",
      " |-- YearAlter1: string (nullable = true)\n",
      " |-- YearAlter2: string (nullable = true)\n",
      " |-- HistDist: string (nullable = true)\n",
      " |-- Landmark: string (nullable = true)\n",
      " |-- BuiltFAR: string (nullable = true)\n",
      " |-- ResidFAR: string (nullable = true)\n",
      " |-- CommFAR: string (nullable = true)\n",
      " |-- FacilFAR: string (nullable = true)\n",
      " |-- BoroCode: string (nullable = true)\n",
      " |-- BBL: string (nullable = true)\n",
      " |-- CondoNo: string (nullable = true)\n",
      " |-- Tract2010: string (nullable = true)\n",
      " |-- XCoord: string (nullable = true)\n",
      " |-- YCoord: string (nullable = true)\n",
      " |-- ZoneMap: string (nullable = true)\n",
      " |-- ZMCode: string (nullable = true)\n",
      " |-- Sanborn: string (nullable = true)\n",
      " |-- TaxMap: string (nullable = true)\n",
      " |-- EDesigNum: string (nullable = true)\n",
      " |-- APPBBL: string (nullable = true)\n",
      " |-- APPDate: string (nullable = true)\n",
      " |-- PLUTOMapID: string (nullable = true)\n",
      " |-- FIRM07_FLA: string (nullable = true)\n",
      " |-- PFIRM15_FL: string (nullable = true)\n",
      " |-- Version: string (nullable = true)\n",
      " |-- MAPPLUTO_F: string (nullable = true)\n",
      " |-- SHAPE_Leng: string (nullable = true)\n",
      " |-- SHAPE_Area: string (nullable = true)\n",
      "\n"
     ]
    }
   ],
   "source": [
    "df.printSchema()"
   ]
  },
  {
   "cell_type": "code",
   "execution_count": 5,
   "metadata": {
    "pycharm": {
     "name": "#%%\n"
    }
   },
   "outputs": [
    {
     "data": {
      "text/plain": "(390883, 111)"
     },
     "execution_count": 5,
     "metadata": {},
     "output_type": "execute_result"
    }
   ],
   "source": [
    "df.count(), len(df.columns)"
   ]
  },
  {
   "cell_type": "markdown",
   "source": [
    "## 1. Найдите среднюю стоимость жилья (sale_price) и выведите новую таблицу, содержащую две колонки – стоимость жилья и отклонение стоимости от среднего значения."
   ],
   "metadata": {
    "collapsed": false,
    "pycharm": {
     "name": "#%% md\n"
    }
   }
  },
  {
   "cell_type": "markdown",
   "source": [
    "Посмотрим сколько объектов с низкой ценой."
   ],
   "metadata": {
    "collapsed": false,
    "pycharm": {
     "name": "#%% md\n"
    }
   }
  },
  {
   "cell_type": "code",
   "execution_count": 6,
   "metadata": {
    "pycharm": {
     "name": "#%%\n"
    }
   },
   "outputs": [
    {
     "name": "stdout",
     "output_type": "stream",
     "text": [
      "+----------+--------+\n",
      "|sale_price|count_sp|\n",
      "+----------+--------+\n",
      "|       0.0|  140143|\n",
      "|       1.0|     709|\n",
      "|       2.0|      17|\n",
      "|       3.0|      15|\n",
      "|       4.0|      12|\n",
      "|       5.0|      23|\n",
      "|       6.0|       9|\n",
      "|       7.0|      19|\n",
      "|       8.0|      12|\n",
      "|       9.0|      15|\n",
      "|      10.0|    3465|\n",
      "+----------+--------+\n",
      "only showing top 11 rows\n",
      "\n"
     ]
    }
   ],
   "source": [
    "df.groupby(\"sale_price\").agg({\"sale_price\":\"count\"}).\\\n",
    "    orderBy(\"sale_price\", ascending=True).\\\n",
    "    select(\"sale_price\", col(\"count(sale_price)\").alias(\"count_sp\")).show(11)"
   ]
  },
  {
   "cell_type": "markdown",
   "source": [
    "Для **среднего значения sale_price**, будем считать sale_price > **0**\n",
    "*(уточнить от какой стоимости лучше брать)*"
   ],
   "metadata": {
    "collapsed": false
   }
  },
  {
   "cell_type": "code",
   "execution_count": 7,
   "metadata": {
    "pycharm": {
     "name": "#%%\n"
    }
   },
   "outputs": [
    {
     "data": {
      "text/plain": "+----------------+\n|         mean_sp|\n+----------------+\n|789988.476126665|\n+----------------+",
      "text/html": "<table border='1'>\n<tr><th>mean_sp</th></tr>\n<tr><td>789988.476126665</td></tr>\n</table>\n"
     },
     "execution_count": 7,
     "metadata": {},
     "output_type": "execute_result"
    }
   ],
   "source": [
    "mean_sp = df.select(\"sale_price\").filter(\"sale_price>0\").agg({\"sale_price\": \"mean\"}).\\\n",
    "             select(col(\"avg(sale_price)\").alias(\"mean_sp\"))\n",
    "mean_sp"
   ]
  },
  {
   "cell_type": "code",
   "execution_count": 8,
   "metadata": {
    "pycharm": {
     "name": "#%%\n"
    }
   },
   "outputs": [
    {
     "name": "stdout",
     "output_type": "stream",
     "text": [
      "+----------+------------+\n",
      "|sale_price|diff_mean_sp|\n",
      "+----------+------------+\n",
      "|  395000.0|  -394988.48|\n",
      "| 1500000.0|   710011.52|\n",
      "|  300000.0|  -489988.48|\n",
      "|  420000.0|  -369988.48|\n",
      "|  422300.0|  -367688.48|\n",
      "+----------+------------+\n",
      "only showing top 5 rows\n",
      "\n"
     ]
    }
   ],
   "source": [
    "diff_mean_sp = df.select(\"sale_price\").filter(\"sale_price>0\").\\\n",
    "               withColumn(\"diff_mean_sp\", f.round(df.sale_price-mean_sp.first()[0], 2))\n",
    "diff_mean_sp.orderBy(rand()).show(5)"
   ]
  },
  {
   "cell_type": "markdown",
   "source": [
    "### В таблице представлены две колонки – стоимость жилья и отклонение стоимости от среднего значения"
   ],
   "metadata": {
    "collapsed": false
   }
  },
  {
   "cell_type": "markdown",
   "source": [
    "## 2. Найдите среднюю стоимость жилья (sale_price) для каждого района."
   ],
   "metadata": {
    "collapsed": false,
    "pycharm": {
     "name": "#%% md\n"
    }
   }
  },
  {
   "cell_type": "markdown",
   "source": [
    "Как и в прошлом задании, **\"sale_price\"** возьмём больше **нуля**."
   ],
   "metadata": {
    "collapsed": false
   }
  },
  {
   "cell_type": "code",
   "execution_count": 9,
   "metadata": {
    "pycharm": {
     "name": "#%%\n"
    }
   },
   "outputs": [
    {
     "name": "stdout",
     "output_type": "stream",
     "text": [
      "+---------------+--------+\n",
      "|   neighborhood| mean_sp|\n",
      "+---------------+--------+\n",
      "|           3004|340704.0|\n",
      "|GERRITSEN BEACH|371206.0|\n",
      "|      FLATLANDS|384301.0|\n",
      "| OLD MILL BASIN|408159.0|\n",
      "|  EAST NEW YORK|432243.0|\n",
      "|       CANARSIE|437302.0|\n",
      "|  CYPRESS HILLS|455799.0|\n",
      "|    MARINE PARK|464091.0|\n",
      "|     OCEAN HILL|499540.0|\n",
      "|  FLATBUSH-EAST|514859.0|\n",
      "+---------------+--------+\n",
      "only showing top 10 rows\n",
      "\n"
     ]
    }
   ],
   "source": [
    "df.filter(\"sale_price>0\").\\\n",
    "    groupby(\"neighborhood\").agg({\"sale_price\": \"avg\"}).\\\n",
    "    select(\"neighborhood\", f.round(col(\"avg(sale_price)\")).alias(\"mean_sp\")).\\\n",
    "    orderBy(\"avg(sale_price)\",ascending=True).show(10)"
   ]
  },
  {
   "cell_type": "markdown",
   "source": [
    "### В таблице представлена средняя цена для каждого района."
   ],
   "metadata": {
    "collapsed": false,
    "pycharm": {
     "name": "#%% md\n"
    }
   }
  },
  {
   "cell_type": "markdown",
   "source": [
    "## 3. Выведите среднюю полную площадь жилья (gross_sqft) для всех сочетаний налоговых категорий (tax_class) и лет продажи (year_of_sale).\n"
   ],
   "metadata": {
    "collapsed": false,
    "pycharm": {
     "name": "#%% md\n"
    }
   }
  },
  {
   "cell_type": "markdown",
   "source": [
    "В этом задании площадь возьмём больше нуля, и округлим среднее значение до верхнего целого значения."
   ],
   "metadata": {
    "collapsed": false
   }
  },
  {
   "cell_type": "code",
   "execution_count": 10,
   "metadata": {
    "pycharm": {
     "name": "#%%\n"
    }
   },
   "outputs": [
    {
     "name": "stdout",
     "output_type": "stream",
     "text": [
      "+---------+------------+-------+\n",
      "|tax_class|year_of_sale|mean_gs|\n",
      "+---------+------------+-------+\n",
      "|       2A|        2006|   4101|\n",
      "|        4|        2012|  17688|\n",
      "|       2A|        2010|   4059|\n",
      "|       2B|        2013|   6813|\n",
      "|       2C|        2005|   7476|\n",
      "|        2|        2017|  34266|\n",
      "|       2C|        2007|   5023|\n",
      "|       2A|        2013|   4047|\n",
      "|       2C|        2015|   4590|\n",
      "|       2B|        2015|   6815|\n",
      "+---------+------------+-------+\n",
      "only showing top 10 rows\n",
      "\n"
     ]
    }
   ],
   "source": [
    "df.filter(\"gross_sqft!=0\")\\\n",
    "    .groupby(\"tax_class\", \"year_of_sale\").agg({\"gross_sqft\": \"avg\"}).\\\n",
    "    select(\"tax_class\", \"year_of_sale\", f.ceil(col(\"avg(gross_sqft)\")).alias(\"mean_gs\")).\\\n",
    "    orderBy(rand()).show(10)"
   ]
  },
  {
   "cell_type": "markdown",
   "source": [
    "### В таблице представлена средняя полная площадь жилья для всех сочетаний налоговых категорий и лет продажи."
   ],
   "metadata": {
    "collapsed": false
   }
  },
  {
   "cell_type": "markdown",
   "source": [
    "## 4. Выведите таблицу, содержащую количество пустых (null) значений для каждой колонки"
   ],
   "metadata": {
    "collapsed": false
   }
  },
  {
   "cell_type": "code",
   "execution_count": 11,
   "metadata": {
    "pycharm": {
     "name": "#%%\n"
    }
   },
   "outputs": [
    {
     "name": "stdout",
     "output_type": "stream",
     "text": [
      "-RECORD 0-------------------------\n",
      " _c0                     | 0      \n",
      " borough1                | 0      \n",
      " neighborhood            | 0      \n",
      " building_class_category | 83     \n",
      " tax_class               | 6934   \n",
      " block                   | 0      \n",
      " lot                     | 0      \n",
      " easement                | 390883 \n",
      " building_class          | 6934   \n",
      " address9                | 0      \n",
      " apartment_number        | 305267 \n",
      " zip_code                | 0      \n",
      " residential_units       | 0      \n",
      " commercial_units        | 0      \n",
      " total_units             | 0      \n",
      " land_sqft               | 0      \n",
      " gross_sqft              | 0      \n",
      " year_built              | 0      \n",
      " tax_class_at_sale       | 0      \n",
      " building_class_at_sale  | 0      \n",
      " sale_price              | 0      \n",
      " sale_date               | 0      \n",
      " year_of_sale            | 0      \n",
      " Borough23               | 87155  \n",
      " CD                      | 87155  \n",
      " CT2010                  | 87447  \n",
      " CB2010                  | 88368  \n",
      " SchoolDist              | 87195  \n",
      " Council                 | 87155  \n",
      " ZipCode                 | 87155  \n",
      " FireComp                | 87403  \n",
      " PolicePrct              | 87155  \n",
      " HealthCent              | 87155  \n",
      " HealthArea              | 87155  \n",
      " SanitBoro               | 87645  \n",
      " SanitDistr              | 87645  \n",
      " SanitSub                | 87931  \n",
      " Address37               | 87178  \n",
      " ZoneDist1               | 87169  \n",
      " ZoneDist2               | 375768 \n",
      " ZoneDist3               | 390697 \n",
      " ZoneDist4               | 390880 \n",
      " Overlay1                | 348962 \n",
      " Overlay2                | 390835 \n",
      " SPDist1                 | 355383 \n",
      " SPDist2                 | 390859 \n",
      " SPDist3                 | 390879 \n",
      " LtdHeight               | 385762 \n",
      " SplitZone               | 87177  \n",
      " BldgClass               | 87177  \n",
      " LandUse                 | 88172  \n",
      " Easements               | 87155  \n",
      " OwnerType               | 337389 \n",
      " OwnerName               | 87259  \n",
      " LotArea                 | 87155  \n",
      " BldgArea                | 87155  \n",
      " ComArea                 | 87155  \n",
      " ResArea                 | 87155  \n",
      " OfficeArea              | 87155  \n",
      " RetailArea              | 87155  \n",
      " GarageArea              | 87155  \n",
      " StrgeArea               | 87155  \n",
      " FactryArea              | 87155  \n",
      " OtherArea               | 87155  \n",
      " AreaSource              | 87155  \n",
      " NumBldgs                | 87155  \n",
      " NumFloors               | 87155  \n",
      " UnitsRes                | 87155  \n",
      " UnitsTotal              | 87155  \n",
      " LotFront                | 87155  \n",
      " LotDepth                | 87155  \n",
      " BldgFront               | 87155  \n",
      " BldgDepth               | 87155  \n",
      " Ext                     | 324750 \n",
      " ProxCode                | 87177  \n",
      " IrrLotCode              | 87177  \n",
      " LotType                 | 87177  \n",
      " BsmtCode                | 87177  \n",
      " AssessLand              | 87155  \n",
      " AssessTot               | 87155  \n",
      " ExemptLand              | 87155  \n",
      " ExemptTot               | 87155  \n",
      " YearBuilt               | 87155  \n",
      " YearAlter1              | 87155  \n",
      " YearAlter2              | 87155  \n",
      " HistDist                | 371209 \n",
      " Landmark                | 390757 \n",
      " BuiltFAR                | 87155  \n",
      " ResidFAR                | 87155  \n",
      " CommFAR                 | 87155  \n",
      " FacilFAR                | 87155  \n",
      " BoroCode                | 87155  \n",
      " BBL                     | 87155  \n",
      " CondoNo                 | 87155  \n",
      " Tract2010               | 87155  \n",
      " XCoord                  | 87155  \n",
      " YCoord                  | 87155  \n",
      " ZoneMap                 | 87155  \n",
      " ZMCode                  | 384771 \n",
      " Sanborn                 | 87173  \n",
      " TaxMap                  | 87173  \n",
      " EDesigNum               | 387329 \n",
      " APPBBL                  | 87155  \n",
      " APPDate                 | 371624 \n",
      " PLUTOMapID              | 87155  \n",
      " FIRM07_FLA              | 382230 \n",
      " PFIRM15_FL              | 363110 \n",
      " Version                 | 87155  \n",
      " MAPPLUTO_F              | 87155  \n",
      " SHAPE_Leng              | 87155  \n",
      " SHAPE_Area              | 87155  \n",
      "\n"
     ]
    }
   ],
   "source": [
    "df = df.replace(\"NA\", None)\n",
    "null_count = df.select([count(when(isnull(c), c)).alias(c) for c, t in df.dtypes])\n",
    "null_count.show(vertical=True)"
   ]
  },
  {
   "cell_type": "markdown",
   "source": [
    "### В таблице представлено кол-во пустых (null) значений для каждой колонки."
   ],
   "metadata": {
    "collapsed": false
   }
  },
  {
   "cell_type": "code",
   "execution_count": 12,
   "outputs": [],
   "source": [
    "spark.stop()"
   ],
   "metadata": {
    "collapsed": false,
    "pycharm": {
     "name": "#%%\n"
    }
   }
  },
  {
   "cell_type": "markdown",
   "source": [
    "## Вывод: я выведен"
   ],
   "metadata": {
    "collapsed": false
   }
  }
 ],
 "metadata": {
  "kernelspec": {
   "display_name": "Python 3 (ipykernel)",
   "language": "python",
   "name": "python3"
  },
  "language_info": {
   "codemirror_mode": {
    "name": "ipython",
    "version": 3
   },
   "file_extension": ".py",
   "mimetype": "text/x-python",
   "name": "python",
   "nbconvert_exporter": "python",
   "pygments_lexer": "ipython3",
   "version": "3.9.7"
  }
 },
 "nbformat": 4,
 "nbformat_minor": 1
}